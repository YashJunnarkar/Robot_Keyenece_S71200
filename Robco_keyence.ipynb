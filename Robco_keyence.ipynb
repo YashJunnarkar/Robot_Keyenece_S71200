{
 "cells": [
  {
   "cell_type": "code",
   "execution_count": 53,
   "id": "d1cc91f1",
   "metadata": {},
   "outputs": [
    {
     "name": "stdout",
     "output_type": "stream",
     "text": [
      "✅ API is reachable\n",
      "Status Code: 200\n",
      "Response: ['v3.0']\n"
     ]
    }
   ],
   "source": [
    "# Robot program activation\n",
    "\n",
    "import requests\n",
    "\n",
    "url = \"http://192.168.1.4/api/versions\"\n",
    "\n",
    "try:\n",
    "    response = requests.get(url, timeout=5)\n",
    "    response.raise_for_status()\n",
    "    print(\"✅ API is reachable\")\n",
    "    print(\"Status Code:\", response.status_code)\n",
    "    print(\"Response:\", response.json())\n",
    "except requests.exceptions.RequestException as e:\n",
    "    print(\"❌ Failed to reach API:\", e)\n",
    "\n",
    "\n",
    "\n"
   ]
  },
  {
   "cell_type": "code",
   "execution_count": 20,
   "id": "26b04ccc",
   "metadata": {},
   "outputs": [
    {
     "name": "stdout",
     "output_type": "stream",
     "text": [
      "✅ Flow started successfully\n",
      "Response: None\n"
     ]
    }
   ],
   "source": [
    "#Test a flow to got to where an object is placed \n",
    "\n",
    "import requests\n",
    "robot_ip = \"192.168.1.4\"\n",
    "flow_uuid = \"acab861e-b286-4413-88e2-203d559fd88c\"\n",
    "url = f\"http://{robot_ip}/api/v3.0/flows/{flow_uuid}/run\"\n",
    "\n",
    "# If no authentication is needed\n",
    "try:\n",
    "    response = requests.put(url)\n",
    "    response.raise_for_status()\n",
    "    print(\"✅ Flow started successfully\")\n",
    "    print(\"Response:\", response.json())\n",
    "except requests.exceptions.RequestException as e:\n",
    "    print(\"❌ Error:\", e)\n"
   ]
  },
  {
   "cell_type": "code",
   "execution_count": 18,
   "id": "d4aa7453",
   "metadata": {},
   "outputs": [
    {
     "name": "stdout",
     "output_type": "stream",
     "text": [
      "✅ Connected to PLC\n",
      "✅ Bit 0 in DB2, byte 0 set to True\n"
     ]
    }
   ],
   "source": [
    "# PLC activation\n",
    "from snap7 import Client\n",
    "from snap7.util import set_bool, set_int\n",
    "from snap7.type import S7DataItem, Area, WordLen\n",
    "\n",
    "plc = Client()\n",
    "plc.connect(\"192.168.1.1\", 0, 1)\n",
    "\n",
    "if plc.get_connected():\n",
    "    print(\"✅ Connected to PLC\")\n",
    "\n",
    "    db_number = 2         # ✅ Updated to DB2\n",
    "    byte_index = 0        # Byte offset inside DB2\n",
    "    bit_index = 0         # Bit in the byte (0–7)\n",
    "    new_value = True      # True = 1, False = 0\n",
    "\n",
    "    # Read current byte from DB2\n",
    "    data = plc.db_read(db_number, byte_index, 1)\n",
    "\n",
    "    # Set the bit\n",
    "    set_bool(data, 0, bit_index, new_value)\n",
    "\n",
    "    # Write the byte back\n",
    "    plc.db_write(db_number, byte_index, data)\n",
    "\n",
    "    print(f\"✅ Bit {bit_index} in DB{db_number}, byte {byte_index} set to {new_value}\")\n",
    "else:\n",
    "    print(\"❌ Failed to connect to PLC\")\n",
    "\n",
    "\n",
    "\n",
    "\n"
   ]
  },
  {
   "cell_type": "code",
   "execution_count": 19,
   "id": "9e388b42",
   "metadata": {},
   "outputs": [
    {
     "name": "stdout",
     "output_type": "stream",
     "text": [
      "✅ Flow started successfully\n",
      "Response: None\n"
     ]
    }
   ],
   "source": [
    "#Comeback to home position\n",
    "import requests\n",
    "\n",
    "robot_ip = \"192.168.1.4\"\n",
    "flow_uuid = \"898d01d5-f931-45ab-82d4-a5caeb2a28a3\"\n",
    "url = f\"http://{robot_ip}/api/v3.0/flows/{flow_uuid}/run\"\n",
    "\n",
    "# If no authentication is needed\n",
    "try:\n",
    "    response = requests.put(url)\n",
    "    response.raise_for_status()\n",
    "    print(\"✅ Flow started successfully\")\n",
    "    print(\"Response:\", response.json())\n",
    "except requests.exceptions.RequestException as e:\n",
    "    print(\"❌ Error:\", e)\n",
    "\n"
   ]
  },
  {
   "cell_type": "code",
   "execution_count": 9,
   "id": "6f52b28d",
   "metadata": {},
   "outputs": [
    {
     "name": "stdout",
     "output_type": "stream",
     "text": [
      "✅ Dashboard data received\n",
      "Widget type: statusPanelDisplay\n",
      "Widget type: jointAnglesDisplay\n",
      "Joint Angles Widget Data:\n",
      "{\n",
      "  \"id\": \"07c24db0-48d3-47f2-980e-60bf8aa5432e\",\n",
      "  \"type\": \"jointAnglesDisplay\",\n",
      "  \"data\": {\n",
      "    \"name\": \"\",\n",
      "    \"validStates\": {\n",
      "      \"general\": true\n",
      "    },\n",
      "    \"valid\": true,\n",
      "    \"backgroundColor\": \"robco-ultramarin\"\n",
      "  },\n",
      "  \"position\": {\n",
      "    \"x\": 630,\n",
      "    \"y\": 130\n",
      "  },\n",
      "  \"dimensions\": {\n",
      "    \"width\": 440,\n",
      "    \"height\": 350\n",
      "  }\n",
      "}\n"
     ]
    }
   ],
   "source": [
    "import requests\n",
    "import json\n",
    "\n",
    "robot_ip = \"192.168.1.4\"\n",
    "dashboard_uuid = \"ada77fbd-9e54-4d62-834a-ee92ac4b6533\"\n",
    "url = f\"http://{robot_ip}/api/v3.0/dashboards/\"\n",
    "\n",
    "try:\n",
    "    response = requests.get(url, timeout=5)\n",
    "    response.raise_for_status()\n",
    "    dashboards = response.json()\n",
    "    dashboard = next((d for d in dashboards if d.get('uuid') == dashboard_uuid), None)\n",
    "    if dashboard:\n",
    "        print(\"✅ Dashboard data received\")\n",
    "        for widget in dashboard.get(\"widgets\", []):\n",
    "            print(f\"Widget type: {widget['type']}\")\n",
    "            if widget[\"type\"] == \"jointAnglesDisplay\":\n",
    "                print(\"Joint Angles Widget Data:\")\n",
    "                print(json.dumps(widget, indent=2))\n",
    "    else:\n",
    "        print(\"❌ Dashboard with the specified UUID not found in the list.\")\n",
    "except requests.exceptions.RequestException as e:\n",
    "    print(\"❌ Failed to reach API:\", e)"
   ]
  },
  {
   "cell_type": "code",
   "execution_count": 79,
   "id": "1aa5459b",
   "metadata": {},
   "outputs": [
    {
     "name": "stdout",
     "output_type": "stream",
     "text": [
      "❌ Failed to reach API: 404 Client Error: Not Found for url: http://192.168.1.4/api/v3.0/joint/angles\n"
     ]
    }
   ],
   "source": [
    "import requests\n",
    "\n",
    "robot_ip = \"192.168.1.4\"\n",
    "url = f\"http://{robot_ip}/api/v3.0/joint/angles\"\n",
    "\n",
    "try:\n",
    "    response = requests.get(url, timeout=5)\n",
    "    response.raise_for_status()\n",
    "    joint_angles = response.json()\n",
    "    print(\"✅ Current joint angles:\")\n",
    "    print(joint_angles)\n",
    "except requests.exceptions.RequestException as e:\n",
    "    print(\"❌ Failed to reach API:\", e)"
   ]
  }
 ],
 "metadata": {
  "kernelspec": {
   "display_name": ".venv",
   "language": "python",
   "name": "python3"
  },
  "language_info": {
   "codemirror_mode": {
    "name": "ipython",
    "version": 3
   },
   "file_extension": ".py",
   "mimetype": "text/x-python",
   "name": "python",
   "nbconvert_exporter": "python",
   "pygments_lexer": "ipython3",
   "version": "3.13.3"
  }
 },
 "nbformat": 4,
 "nbformat_minor": 5
}
